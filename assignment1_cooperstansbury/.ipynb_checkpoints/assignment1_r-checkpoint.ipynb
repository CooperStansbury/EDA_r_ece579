{
 "cells": [
  {
   "cell_type": "markdown",
   "metadata": {},
   "source": [
    "## Assignment 1\n",
    "## Cooper M. Stansbury\n",
    "## UMID: 63919844"
   ]
  },
  {
   "cell_type": "markdown",
   "metadata": {},
   "source": [
    "### config"
   ]
  },
  {
   "cell_type": "code",
   "execution_count": 5,
   "metadata": {},
   "outputs": [],
   "source": [
    "library(leaps)"
   ]
  },
  {
   "cell_type": "code",
   "execution_count": 35,
   "metadata": {},
   "outputs": [
    {
     "name": "stdout",
     "output_type": "stream",
     "text": [
      " [1] \"\\\"\\\",\\\"Sales\\\",\\\"CompPrice\\\",\\\"Income\\\",\\\"Advertising\\\",\\\"Population\\\",\\\"Price\\\",\\\"ShelveLoc\\\",\\\"Age\\\",\\\"Education\\\",\\\"Urban\\\",\\\"US\\\"\"\n",
      " [2] \"\\\"1\\\",9.5,138,73,11,276,120,\\\"Bad\\\",42,17,\\\"Yes\\\",\\\"Yes\\\"\"                                                                            \n",
      " [3] \"\\\"2\\\",11.22,111,48,16,260,83,\\\"Good\\\",65,10,\\\"Yes\\\",\\\"Yes\\\"\"                                                                          \n",
      " [4] \"\\\"3\\\",10.06,113,35,10,269,80,\\\"Medium\\\",59,12,\\\"Yes\\\",\\\"Yes\\\"\"                                                                        \n",
      " [5] \"\\\"4\\\",7.4,117,100,4,466,97,\\\"Medium\\\",55,14,\\\"Yes\\\",\\\"Yes\\\"\"                                                                          \n",
      " [6] \"\\\"5\\\",4.15,141,64,3,340,128,\\\"Bad\\\",38,13,\\\"Yes\\\",\\\"No\\\"\"                                                                             \n",
      " [7] \"\\\"6\\\",10.81,124,113,13,501,72,\\\"Bad\\\",78,16,\\\"No\\\",\\\"Yes\\\"\"                                                                           \n",
      " [8] \"\\\"7\\\",6.63,115,105,0,45,108,\\\"Medium\\\",71,15,\\\"Yes\\\",\\\"No\\\"\"                                                                          \n",
      " [9] \"\\\"8\\\",11.85,136,81,15,425,120,\\\"Good\\\",67,10,\\\"Yes\\\",\\\"Yes\\\"\"                                                                         \n",
      "[10] \"\\\"9\\\",6.54,132,110,0,108,124,\\\"Medium\\\",76,10,\\\"No\\\",\\\"No\\\"\"                                                                          \n"
     ]
    }
   ],
   "source": [
    "# show raw file\n",
    "print(system(\"head -n 10 data/Carseats_org.csv\", intern=TRUE))"
   ]
  },
  {
   "cell_type": "markdown",
   "metadata": {},
   "source": [
    "### import data"
   ]
  },
  {
   "cell_type": "code",
   "execution_count": 48,
   "metadata": {},
   "outputs": [
    {
     "name": "stdout",
     "output_type": "stream",
     "text": [
      "       X             Sales          CompPrice       Income      \n",
      " Min.   :  1.0   Min.   : 0.000   Min.   : 77   Min.   : 21.00  \n",
      " 1st Qu.:100.8   1st Qu.: 5.390   1st Qu.:115   1st Qu.: 42.75  \n",
      " Median :200.5   Median : 7.490   Median :125   Median : 69.00  \n",
      " Mean   :200.5   Mean   : 7.496   Mean   :125   Mean   : 68.66  \n",
      " 3rd Qu.:300.2   3rd Qu.: 9.320   3rd Qu.:135   3rd Qu.: 91.00  \n",
      " Max.   :400.0   Max.   :16.270   Max.   :175   Max.   :120.00  \n",
      "  Advertising       Population        Price        ShelveLoc        Age       \n",
      " Min.   : 0.000   Min.   : 10.0   Min.   : 24.0   Bad   : 96   Min.   :25.00  \n",
      " 1st Qu.: 0.000   1st Qu.:139.0   1st Qu.:100.0   Good  : 85   1st Qu.:39.75  \n",
      " Median : 5.000   Median :272.0   Median :117.0   Medium:219   Median :54.50  \n",
      " Mean   : 6.635   Mean   :264.8   Mean   :115.8                Mean   :53.32  \n",
      " 3rd Qu.:12.000   3rd Qu.:398.5   3rd Qu.:131.0                3rd Qu.:66.00  \n",
      " Max.   :29.000   Max.   :509.0   Max.   :191.0                Max.   :80.00  \n",
      "   Education    Urban       US     \n",
      " Min.   :10.0   No :118   No :142  \n",
      " 1st Qu.:12.0   Yes:282   Yes:258  \n",
      " Median :14.0                      \n",
      " Mean   :13.9                      \n",
      " 3rd Qu.:16.0                      \n",
      " Max.   :18.0                      \n"
     ]
    }
   ],
   "source": [
    "carseats <- read.csv(\"data/Carseats_org.csv\")\n",
    "\n",
    "print(summary(carseats))\n",
    "\n",
    "# # show possible methods\n",
    "# print(methods(class=class(carseats)))"
   ]
  },
  {
   "cell_type": "code",
   "execution_count": 41,
   "metadata": {},
   "outputs": [
    {
     "data": {
      "text/html": [
       "<ol class=list-inline>\n",
       "\t<li>'X'</li>\n",
       "\t<li>'Sales'</li>\n",
       "\t<li>'CompPrice'</li>\n",
       "\t<li>'Income'</li>\n",
       "\t<li>'Advertising'</li>\n",
       "\t<li>'Population'</li>\n",
       "\t<li>'Price'</li>\n",
       "\t<li>'ShelveLoc'</li>\n",
       "\t<li>'Age'</li>\n",
       "\t<li>'Education'</li>\n",
       "\t<li>'Urban'</li>\n",
       "\t<li>'US'</li>\n",
       "</ol>\n"
      ],
      "text/latex": [
       "\\begin{enumerate*}\n",
       "\\item 'X'\n",
       "\\item 'Sales'\n",
       "\\item 'CompPrice'\n",
       "\\item 'Income'\n",
       "\\item 'Advertising'\n",
       "\\item 'Population'\n",
       "\\item 'Price'\n",
       "\\item 'ShelveLoc'\n",
       "\\item 'Age'\n",
       "\\item 'Education'\n",
       "\\item 'Urban'\n",
       "\\item 'US'\n",
       "\\end{enumerate*}\n"
      ],
      "text/markdown": [
       "1. 'X'\n",
       "2. 'Sales'\n",
       "3. 'CompPrice'\n",
       "4. 'Income'\n",
       "5. 'Advertising'\n",
       "6. 'Population'\n",
       "7. 'Price'\n",
       "8. 'ShelveLoc'\n",
       "9. 'Age'\n",
       "10. 'Education'\n",
       "11. 'Urban'\n",
       "12. 'US'\n",
       "\n",
       "\n"
      ],
      "text/plain": [
       " [1] \"X\"           \"Sales\"       \"CompPrice\"   \"Income\"      \"Advertising\"\n",
       " [6] \"Population\"  \"Price\"       \"ShelveLoc\"   \"Age\"         \"Education\"  \n",
       "[11] \"Urban\"       \"US\"         "
      ]
     },
     "metadata": {},
     "output_type": "display_data"
    }
   ],
   "source": [
    "names(carseats)"
   ]
  },
  {
   "cell_type": "code",
   "execution_count": null,
   "metadata": {},
   "outputs": [],
   "source": []
  }
 ],
 "metadata": {
  "kernelspec": {
   "display_name": "R",
   "language": "R",
   "name": "ir"
  },
  "language_info": {
   "codemirror_mode": "r",
   "file_extension": ".r",
   "mimetype": "text/x-r-source",
   "name": "R",
   "pygments_lexer": "r",
   "version": "3.5.1"
  }
 },
 "nbformat": 4,
 "nbformat_minor": 2
}
